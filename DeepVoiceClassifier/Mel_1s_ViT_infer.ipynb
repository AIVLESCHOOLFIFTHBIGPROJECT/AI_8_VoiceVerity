{
 "cells": [
  {
   "cell_type": "markdown",
   "metadata": {},
   "source": [
    "- Check ONNX Model path\n",
    "- Prepare Test Data\n",
    "    - 현재 코드는 학습 코드에서 사용하였던 전처리 기법을 수행한 test 데이터를 기반으로 작성되었기 때문에, train 코드에서 사용하였던 전처리 함수들을 가져와서 전처리 수행 후 test dataset 구축하여 사용 필요"
   ]
  },
  {
   "cell_type": "code",
   "execution_count": null,
   "metadata": {},
   "outputs": [],
   "source": [
    "import os\n",
    "import numpy as np\n",
    "import onnxruntime as ort\n",
    "from sklearn.metrics import classification_report\n",
    "from tqdm import tqdm\n",
    "\n",
    "# Load ONNX model\n",
    "onnx_model_path = \"Mel_1s_vit.onnx\"\n",
    "ort_session = ort.InferenceSession(onnx_model_path)\n",
    "\n",
    "# Function to make prediction using ONNX model\n",
    "def predict_onnx(input_data):\n",
    "    # Run inference\n",
    "    input_name = ort_session.get_inputs()[0].name\n",
    "    result = ort_session.run(None, {input_name: input_data})\n",
    "\n",
    "    return result[0][0]  # Return the prediction result for the segment\n",
    "\n",
    "# Function to process the entire X_test dataset and get predictions\n",
    "def predict_x_test(X_test):\n",
    "    predictions = []\n",
    "\n",
    "    for segment in X_test:\n",
    "        # Prepare the input\n",
    "        input_data = segment[np.newaxis, ...].astype(np.float32)  # Shape: [1, height, width, channels]\n",
    "\n",
    "        # Get prediction for the segment\n",
    "        prediction = predict_onnx(input_data)\n",
    "        predictions.append(prediction)\n",
    "\n",
    "    return predictions\n",
    "\n",
    "# Assuming X_test and y_test are already defined as per your previous code\n",
    "# Example usage for inference on X_test\n",
    "predictions = predict_x_test(X_test)\n",
    "\n",
    "# Convert probabilities to binary predictions\n",
    "y_pred = np.array([1 if pred > 0.8 else 0 for pred in predictions])\n",
    "\n",
    "# Generate classification report\n",
    "report = classification_report(y_test, y_pred, target_names=[\"REAL\", \"FAKE\"])\n",
    "print(\"Classification Report:\\n\", report)"
   ]
  }
 ],
 "metadata": {
  "language_info": {
   "name": "python"
  }
 },
 "nbformat": 4,
 "nbformat_minor": 2
}
